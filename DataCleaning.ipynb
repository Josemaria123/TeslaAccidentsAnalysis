{
 "cells": [
  {
   "cell_type": "code",
   "execution_count": 1,
   "id": "2a1d12f8-b3e5-42ef-8a80-26ed21a24659",
   "metadata": {},
   "outputs": [],
   "source": [
    "import pandas as pd\n",
    "import matplotlib.pylab as plt\n",
    "import seaborn as sns\n",
    "import numpy as np\n",
    "plt.style.use('ggplot')\n",
    "pd.set_option('display.max_columns', 200)"
   ]
  },
  {
   "cell_type": "markdown",
   "id": "3d10bd3f-0957-4e6f-9b21-183584501114",
   "metadata": {
    "tags": []
   },
   "source": [
    "# Dataset Observation"
   ]
  },
  {
   "cell_type": "markdown",
   "id": "5d95061b-2a6b-4a2e-b1d1-52d10d524f93",
   "metadata": {},
   "source": [
    "**Link to the dataset: https://www.kaggle.com/datasets/thedevastator/tesla-accident-fatalities-analysis-and-statistic**"
   ]
  },
  {
   "cell_type": "code",
   "execution_count": 2,
   "id": "d1cb3515-82c7-42e3-a76a-953a0f3cef24",
   "metadata": {},
   "outputs": [],
   "source": [
    "df = pd.read_csv('Tesla Deaths - Deaths (3).csv')"
   ]
  },
  {
   "cell_type": "code",
   "execution_count": 3,
   "id": "3eb01228-ecb1-484c-9fd3-c248c842aa5f",
   "metadata": {},
   "outputs": [
    {
     "data": {
      "text/plain": [
       "(254, 21)"
      ]
     },
     "execution_count": 3,
     "metadata": {},
     "output_type": "execute_result"
    }
   ],
   "source": [
    "df.shape"
   ]
  },
  {
   "cell_type": "code",
   "execution_count": 4,
   "id": "69d382e7-66f0-42a6-a695-d78e0910b6b3",
   "metadata": {},
   "outputs": [
    {
     "data": {
      "text/html": [
       "<div>\n",
       "<style scoped>\n",
       "    .dataframe tbody tr th:only-of-type {\n",
       "        vertical-align: middle;\n",
       "    }\n",
       "\n",
       "    .dataframe tbody tr th {\n",
       "        vertical-align: top;\n",
       "    }\n",
       "\n",
       "    .dataframe thead th {\n",
       "        text-align: right;\n",
       "    }\n",
       "</style>\n",
       "<table border=\"1\" class=\"dataframe\">\n",
       "  <thead>\n",
       "    <tr style=\"text-align: right;\">\n",
       "      <th></th>\n",
       "      <th>Case #</th>\n",
       "      <th>Year</th>\n",
       "      <th>Date</th>\n",
       "      <th>Country</th>\n",
       "      <th>State</th>\n",
       "      <th>Description</th>\n",
       "      <th>Deaths</th>\n",
       "      <th>Tesla driver</th>\n",
       "      <th>Tesla occupant</th>\n",
       "      <th>Other vehicle</th>\n",
       "      <th>Cyclists/ Peds</th>\n",
       "      <th>TSLA+cycl / peds</th>\n",
       "      <th>Model</th>\n",
       "      <th>AutoPilot claimed</th>\n",
       "      <th>Verified Tesla Autopilot Death</th>\n",
       "      <th>Source</th>\n",
       "      <th>Note</th>\n",
       "      <th>Deceased 1</th>\n",
       "      <th>Deceased 2</th>\n",
       "      <th>Deceased 3</th>\n",
       "      <th>Deceased 4</th>\n",
       "    </tr>\n",
       "  </thead>\n",
       "  <tbody>\n",
       "    <tr>\n",
       "      <th>0</th>\n",
       "      <td>254</td>\n",
       "      <td>2022</td>\n",
       "      <td>8/16/2022</td>\n",
       "      <td>Germany</td>\n",
       "      <td>NaN</td>\n",
       "      <td>Tesla car crashes into tree, burns</td>\n",
       "      <td>2</td>\n",
       "      <td>NaN</td>\n",
       "      <td>NaN</td>\n",
       "      <td>-</td>\n",
       "      <td>-</td>\n",
       "      <td>2</td>\n",
       "      <td>NaN</td>\n",
       "      <td>-</td>\n",
       "      <td>-</td>\n",
       "      <td>https://www.tag24.de/nachrichten/unfall/tesla...</td>\n",
       "      <td>NaN</td>\n",
       "      <td>NaN</td>\n",
       "      <td>NaN</td>\n",
       "      <td>NaN</td>\n",
       "      <td>NaN</td>\n",
       "    </tr>\n",
       "    <tr>\n",
       "      <th>1</th>\n",
       "      <td>253</td>\n",
       "      <td>2022</td>\n",
       "      <td>8/15/2022</td>\n",
       "      <td>USA</td>\n",
       "      <td>CA</td>\n",
       "      <td>Tesla veers into oncoming traffic</td>\n",
       "      <td>4</td>\n",
       "      <td>1</td>\n",
       "      <td>3</td>\n",
       "      <td>-</td>\n",
       "      <td>-</td>\n",
       "      <td>4</td>\n",
       "      <td>NaN</td>\n",
       "      <td>-</td>\n",
       "      <td>-</td>\n",
       "      <td>https://www.ksbw.com/article/hollister-crash-...</td>\n",
       "      <td>NaN</td>\n",
       "      <td>NaN</td>\n",
       "      <td>NaN</td>\n",
       "      <td>NaN</td>\n",
       "      <td>NaN</td>\n",
       "    </tr>\n",
       "    <tr>\n",
       "      <th>2</th>\n",
       "      <td>252</td>\n",
       "      <td>2022</td>\n",
       "      <td>8/14/2022</td>\n",
       "      <td>Finland</td>\n",
       "      <td>NaN</td>\n",
       "      <td>Unlicensed driver hits pedestrian</td>\n",
       "      <td>1</td>\n",
       "      <td>-</td>\n",
       "      <td>-</td>\n",
       "      <td>-</td>\n",
       "      <td>1</td>\n",
       "      <td>1</td>\n",
       "      <td>NaN</td>\n",
       "      <td>-</td>\n",
       "      <td>-</td>\n",
       "      <td>https://yle.fi/uutiset/3-12576787</td>\n",
       "      <td>NaN</td>\n",
       "      <td>NaN</td>\n",
       "      <td>NaN</td>\n",
       "      <td>NaN</td>\n",
       "      <td>NaN</td>\n",
       "    </tr>\n",
       "    <tr>\n",
       "      <th>3</th>\n",
       "      <td>251</td>\n",
       "      <td>2022</td>\n",
       "      <td>8/2/2022</td>\n",
       "      <td>USA</td>\n",
       "      <td>FL</td>\n",
       "      <td>Man in wheelchair hit crossing road</td>\n",
       "      <td>1</td>\n",
       "      <td>-</td>\n",
       "      <td>-</td>\n",
       "      <td>-</td>\n",
       "      <td>1</td>\n",
       "      <td>1</td>\n",
       "      <td>3</td>\n",
       "      <td>-</td>\n",
       "      <td>-</td>\n",
       "      <td>https://www.wfla.com/news/man-in-wheelchair-f...</td>\n",
       "      <td>NaN</td>\n",
       "      <td>NaN</td>\n",
       "      <td>NaN</td>\n",
       "      <td>NaN</td>\n",
       "      <td>NaN</td>\n",
       "    </tr>\n",
       "    <tr>\n",
       "      <th>4</th>\n",
       "      <td>250</td>\n",
       "      <td>2022</td>\n",
       "      <td>7/27/2022</td>\n",
       "      <td>USA</td>\n",
       "      <td>ME</td>\n",
       "      <td>Tesla crashes at high speed</td>\n",
       "      <td>1</td>\n",
       "      <td>1</td>\n",
       "      <td>-</td>\n",
       "      <td>-</td>\n",
       "      <td>-</td>\n",
       "      <td>1</td>\n",
       "      <td>-</td>\n",
       "      <td>-</td>\n",
       "      <td>-</td>\n",
       "      <td>https://www.boothbayregister.com/article/sout...</td>\n",
       "      <td>NaN</td>\n",
       "      <td>James T. Penner</td>\n",
       "      <td>NaN</td>\n",
       "      <td>NaN</td>\n",
       "      <td>NaN</td>\n",
       "    </tr>\n",
       "  </tbody>\n",
       "</table>\n",
       "</div>"
      ],
      "text/plain": [
       "   Case #  Year       Date   Country   State   \\\n",
       "0     254  2022  8/16/2022   Germany      NaN   \n",
       "1     253  2022  8/15/2022       USA       CA   \n",
       "2     252  2022  8/14/2022   Finland      NaN   \n",
       "3     251  2022   8/2/2022       USA       FL   \n",
       "4     250  2022  7/27/2022       USA       ME   \n",
       "\n",
       "                            Description    Deaths   Tesla driver   \\\n",
       "0    Tesla car crashes into tree, burns          2            NaN   \n",
       "1     Tesla veers into oncoming traffic          4              1   \n",
       "2     Unlicensed driver hits pedestrian          1             -    \n",
       "3   Man in wheelchair hit crossing road          1             -    \n",
       "4           Tesla crashes at high speed          1              1   \n",
       "\n",
       "   Tesla occupant   Other vehicle   Cyclists/ Peds   TSLA+cycl / peds   \\\n",
       "0              NaN              -                -                   2   \n",
       "1                3              -                -                   4   \n",
       "2               -               -                 1                  1   \n",
       "3               -               -                 1                  1   \n",
       "4               -               -                -                   1   \n",
       "\n",
       "   Model   AutoPilot claimed   Verified Tesla Autopilot Death   \\\n",
       "0     NaN                  -                                -    \n",
       "1     NaN                  -                                -    \n",
       "2     NaN                  -                                -    \n",
       "3       3                  -                                -    \n",
       "4      -                   -                                -    \n",
       "\n",
       "                                             Source   Note   \\\n",
       "0   https://www.tag24.de/nachrichten/unfall/tesla...    NaN   \n",
       "1   https://www.ksbw.com/article/hollister-crash-...    NaN   \n",
       "2                 https://yle.fi/uutiset/3-12576787     NaN   \n",
       "3   https://www.wfla.com/news/man-in-wheelchair-f...    NaN   \n",
       "4   https://www.boothbayregister.com/article/sout...    NaN   \n",
       "\n",
       "         Deceased 1   Deceased 2   Deceased 3    Deceased 4   \n",
       "0                NaN          NaN          NaN           NaN  \n",
       "1                NaN          NaN          NaN           NaN  \n",
       "2                NaN          NaN          NaN           NaN  \n",
       "3                NaN          NaN          NaN           NaN  \n",
       "4   James T. Penner           NaN          NaN           NaN  "
      ]
     },
     "execution_count": 4,
     "metadata": {},
     "output_type": "execute_result"
    }
   ],
   "source": [
    "df.head()"
   ]
  },
  {
   "cell_type": "code",
   "execution_count": 5,
   "id": "c4b7390d-4db4-4071-be78-73e604d301a9",
   "metadata": {},
   "outputs": [
    {
     "name": "stdout",
     "output_type": "stream",
     "text": [
      "<class 'pandas.core.frame.DataFrame'>\n",
      "RangeIndex: 254 entries, 0 to 253\n",
      "Data columns (total 21 columns):\n",
      " #   Column                            Non-Null Count  Dtype  \n",
      "---  ------                            --------------  -----  \n",
      " 0   Case #                            254 non-null    int64  \n",
      " 1   Year                              254 non-null    int64  \n",
      " 2   Date                              254 non-null    object \n",
      " 3    Country                          254 non-null    object \n",
      " 4    State                            185 non-null    object \n",
      " 5    Description                      254 non-null    object \n",
      " 6    Deaths                           254 non-null    int64  \n",
      " 7    Tesla driver                     250 non-null    object \n",
      " 8    Tesla occupant                   246 non-null    object \n",
      " 9    Other vehicle                    251 non-null    object \n",
      " 10   Cyclists/ Peds                   252 non-null    object \n",
      " 11   TSLA+cycl / peds                 253 non-null    object \n",
      " 12   Model                            251 non-null    object \n",
      " 13   AutoPilot claimed                250 non-null    object \n",
      " 14   Verified Tesla Autopilot Death   254 non-null    object \n",
      " 15   Source                           254 non-null    object \n",
      " 16   Note                             8 non-null      object \n",
      " 17   Deceased 1                       71 non-null     object \n",
      " 18   Deceased 2                       15 non-null     object \n",
      " 19   Deceased 3                       4 non-null      object \n",
      " 20   Deceased 4                       0 non-null      float64\n",
      "dtypes: float64(1), int64(3), object(17)\n",
      "memory usage: 41.8+ KB\n"
     ]
    }
   ],
   "source": [
    "df.info()"
   ]
  },
  {
   "cell_type": "markdown",
   "id": "effbd940-0cbd-4310-82c2-e5f5a017fc85",
   "metadata": {
    "tags": []
   },
   "source": [
    "# Modifying the dtypes of the columns"
   ]
  },
  {
   "cell_type": "code",
   "execution_count": 6,
   "id": "2697f37d-e6f3-427d-881b-41cfdb4c54e0",
   "metadata": {},
   "outputs": [
    {
     "data": {
      "text/plain": [
       "Index(['Case #', 'Year', 'Date', ' Country ', ' State ', ' Description ',\n",
       "       ' Deaths ', ' Tesla driver ', ' Tesla occupant ', ' Other vehicle ',\n",
       "       ' Cyclists/ Peds ', ' TSLA+cycl / peds ', ' Model ',\n",
       "       ' AutoPilot claimed ', ' Verified Tesla Autopilot Death ', ' Source ',\n",
       "       ' Note ', ' Deceased 1 ', ' Deceased 2 ', ' Deceased 3 ',\n",
       "       ' Deceased 4 '],\n",
       "      dtype='object')"
      ]
     },
     "execution_count": 6,
     "metadata": {},
     "output_type": "execute_result"
    }
   ],
   "source": [
    "df.columns"
   ]
  },
  {
   "cell_type": "code",
   "execution_count": 7,
   "id": "cfa78c78-ff34-4a31-b927-5e8981e21736",
   "metadata": {},
   "outputs": [
    {
     "data": {
      "text/plain": [
       " -     210\n",
       "1       32\n",
       "2        3\n",
       "3        1\n",
       "Name:  Tesla occupant , dtype: int64"
      ]
     },
     "execution_count": 7,
     "metadata": {},
     "output_type": "execute_result"
    }
   ],
   "source": [
    "df[' Tesla occupant '].value_counts()"
   ]
  },
  {
   "cell_type": "code",
   "execution_count": 8,
   "id": "222006e4-edd2-491a-85f2-1a45b0aecf1b",
   "metadata": {},
   "outputs": [],
   "source": [
    "df = df[[\n",
    "    #'Case #',\n",
    "    'Year', \n",
    "    'Date', \n",
    "    ' Country ',\n",
    "    ' State ',\n",
    "    ' Description ',\n",
    "    ' Deaths ', \n",
    "    ' Tesla driver ', \n",
    "    ' Tesla occupant ', \n",
    "    ' Other vehicle ',\n",
    "    ' Cyclists/ Peds ', ' TSLA+cycl / peds ', ' Model ',\n",
    "    ' AutoPilot claimed ', ' Verified Tesla Autopilot Death '\n",
    "    #' Source ',\n",
    "    #' Note ',\n",
    "    #' Deceased 1 ', ' Deceased 2 ', ' Deceased 3 ',\n",
    "    #' Deceased 4 '\n",
    "]].copy()"
   ]
  },
  {
   "cell_type": "code",
   "execution_count": 9,
   "id": "7fe07b74-71cd-4ae4-b403-3469e6079957",
   "metadata": {},
   "outputs": [],
   "source": [
    "column_names = [x.strip(' ') for x in df.columns]\n",
    "\n",
    "df = df.rename(columns={' Country ':'Country',\n",
    "                ' State ': 'State',\n",
    "                ' Description ': 'Description',\n",
    "                ' Deaths ': 'Deaths',\n",
    "                ' Tesla driver ': 'Tesla_driver',\n",
    "                ' Tesla occupant ': 'Tesla_occupant', \n",
    "                ' Other vehicle ': 'Other_vehicle',\n",
    "                ' Cyclists/ Peds ': 'Cyclists_Peds',\n",
    "                ' TSLA+cycl / peds ': 'TSLApluscycl_peds',\n",
    "                ' Model ': 'Model',\n",
    "                ' AutoPilot claimed ': 'AutoPilot_claimed', \n",
    "                ' Verified Tesla Autopilot Death ': 'Verified_Autopilot_Death'                   \n",
    "               })"
   ]
  },
  {
   "cell_type": "markdown",
   "id": "8f12678d-5c8d-4fdf-9b20-06542525f11f",
   "metadata": {},
   "source": [
    "## Filling NA values"
   ]
  },
  {
   "cell_type": "code",
   "execution_count": 10,
   "id": "8abe42a8-f6f6-462c-b42a-5ce76fa52358",
   "metadata": {},
   "outputs": [
    {
     "data": {
      "text/plain": [
       "Index(['Year', 'Date', 'Country', 'State', 'Description', 'Deaths',\n",
       "       'Tesla_driver', 'Tesla_occupant', 'Other_vehicle', 'Cyclists_Peds',\n",
       "       'TSLApluscycl_peds', 'Model', 'AutoPilot_claimed',\n",
       "       'Verified_Autopilot_Death'],\n",
       "      dtype='object')"
      ]
     },
     "execution_count": 10,
     "metadata": {},
     "output_type": "execute_result"
    }
   ],
   "source": [
    "df.columns"
   ]
  },
  {
   "cell_type": "code",
   "execution_count": 11,
   "id": "cca9667f-6a52-49dc-ab6c-e368316e3486",
   "metadata": {},
   "outputs": [
    {
     "data": {
      "text/plain": [
       "array([nan, '1', ' - '], dtype=object)"
      ]
     },
     "execution_count": 11,
     "metadata": {},
     "output_type": "execute_result"
    }
   ],
   "source": [
    "df.Tesla_driver.unique()"
   ]
  },
  {
   "cell_type": "code",
   "execution_count": 12,
   "id": "5b1af41d-c878-468e-a85d-3709114c1add",
   "metadata": {},
   "outputs": [],
   "source": [
    "#Convierto los nan a formato pd.NA. Luego reemplazo todos los guiones por False y los 1s por True\n",
    "#df.Tesla_driver = np.where(df.Tesla_driver.isnull(), pd.NA, np.where(df.Tesla_driver == ' - ', False, True))"
   ]
  },
  {
   "cell_type": "code",
   "execution_count": 13,
   "id": "8bd524b8-fdf5-4009-9dbf-cc200cb26d81",
   "metadata": {},
   "outputs": [],
   "source": [
    "#Relleno todos los pd.NA con False\n",
    "#df.Tesla_driver = df.Tesla_driver.fillna(False)"
   ]
  },
  {
   "cell_type": "code",
   "execution_count": 14,
   "id": "3ec069fd-3b7e-4822-a73f-e8d75af4457c",
   "metadata": {},
   "outputs": [],
   "source": [
    "#Cambio el dtype a boolean\n",
    "#df.Tesla_driver = df.Tesla_driver.astype('boolean')"
   ]
  },
  {
   "cell_type": "code",
   "execution_count": 15,
   "id": "9d3e6cce-50b9-4ca1-a23d-ae53f75f0d86",
   "metadata": {},
   "outputs": [],
   "source": [
    "#df.Tesla_driver.unique()"
   ]
  },
  {
   "cell_type": "code",
   "execution_count": 16,
   "id": "5accc553-be62-472d-ba9a-f97ed59cda1e",
   "metadata": {},
   "outputs": [],
   "source": [
    "def set_dtypes(df):\n",
    "    df.Year = df.Year.astype('int16')\n",
    "    df.Date = df.Date.astype('datetime64[ns]')\n",
    "    df.Country = df.Country.astype('category')\n",
    "    df.State = df.State.astype('category')\n",
    "    df.Description = df.Description.astype('object')\n",
    "    df.Deaths = df.Deaths.astype('int8')\n",
    "    \n",
    "    df.Tesla_driver = np.where(df.Tesla_driver.isnull(), pd.NA, np.where(df.Tesla_driver == ' - ', False, True))\n",
    "    df.Tesla_driver = df.Tesla_driver.fillna(False)\n",
    "    df.Tesla_driver = df.Tesla_driver.astype('boolean')\n",
    "    \n",
    "    df.Tesla_occupant = np.where(df.Tesla_occupant.isnull(), pd.NA, np.where(df.Tesla_occupant == '1', True, False))\n",
    "    df.Tesla_occupant = df.Tesla_occupant.fillna(False)\n",
    "    df.Tesla_occupant = df.Tesla_occupant.astype('boolean')\n",
    "    \n",
    "    df.Other_vehicle = np.where(df.Other_vehicle.isnull(), pd.NA, np.where(df.Other_vehicle == '1', True, False))\n",
    "    df.Other_vehicle = df.Other_vehicle.fillna(False)\n",
    "    df.Other_vehicle = df.Other_vehicle.astype('boolean')\n",
    "    \n",
    "    df.Cyclists_Peds = np.where(df.Cyclists_Peds.isnull(), pd.NA, np.where(df.Cyclists_Peds == '1', True, False))\n",
    "    df.Cyclists_Peds = df.Cyclists_Peds.fillna(False)\n",
    "    df.Cyclists_Peds = df.Cyclists_Peds.astype('boolean')\n",
    "    \n",
    "    df.TSLApluscycl_peds = np.where(df.TSLApluscycl_peds.isnull(), pd.NA, np.where(df.TSLApluscycl_peds == '1', True, False))\n",
    "    df.TSLApluscycl_peds = df.TSLApluscycl_peds.fillna(False)\n",
    "    df.TSLApluscycl_peds = df.TSLApluscycl_peds.astype('boolean')\n",
    "    \n",
    "    df.Model = df.Model.map({' - ': 'Sin especificar', '3': '3', ' S ': 'S', ' X ': 'X', ' Y ': 'Y'})\n",
    "    df.Model = np.where(df.Model.isnull(), pd.NA, df.Model)\n",
    "    df.Model = df.Model.fillna('Sin especificar')\n",
    "    df.Model = df.Model.astype('category')\n",
    "    \n",
    "    df.AutoPilot_claimed = np.where(df.AutoPilot_claimed.isnull(), pd.NA, np.where(df.AutoPilot_claimed == '1', True, False))\n",
    "    df.AutoPilot_claimed = df.AutoPilot_claimed.fillna(False)\n",
    "    df.AutoPilot_claimed = df.AutoPilot_claimed.astype('boolean')\n",
    "    \n",
    "    df.Verified_Autopilot_Death = np.where(df.Verified_Autopilot_Death.isnull(), pd.NA, np.where(df.Verified_Autopilot_Death == '1', True, False))\n",
    "    df.Verified_Autopilot_Death = df.Verified_Autopilot_Death.fillna(False)\n",
    "    df.Verified_Autopilot_Death = df.Verified_Autopilot_Death.astype('boolean')\n",
    "    \n",
    "    return df"
   ]
  },
  {
   "cell_type": "code",
   "execution_count": 17,
   "id": "356ff4b8-2e91-4e9b-843d-60ffe31b51e4",
   "metadata": {},
   "outputs": [],
   "source": [
    "df = set_dtypes(df)"
   ]
  },
  {
   "cell_type": "code",
   "execution_count": 18,
   "id": "52a7d19d-27b4-4039-ab08-b8e5cb5d98df",
   "metadata": {},
   "outputs": [
    {
     "name": "stdout",
     "output_type": "stream",
     "text": [
      "<class 'pandas.core.frame.DataFrame'>\n",
      "RangeIndex: 254 entries, 0 to 253\n",
      "Data columns (total 14 columns):\n",
      " #   Column                    Non-Null Count  Dtype         \n",
      "---  ------                    --------------  -----         \n",
      " 0   Year                      254 non-null    int16         \n",
      " 1   Date                      254 non-null    datetime64[ns]\n",
      " 2   Country                   254 non-null    category      \n",
      " 3   State                     185 non-null    category      \n",
      " 4   Description               254 non-null    object        \n",
      " 5   Deaths                    254 non-null    int8          \n",
      " 6   Tesla_driver              254 non-null    boolean       \n",
      " 7   Tesla_occupant            254 non-null    boolean       \n",
      " 8   Other_vehicle             254 non-null    boolean       \n",
      " 9   Cyclists_Peds             254 non-null    boolean       \n",
      " 10  TSLApluscycl_peds         254 non-null    boolean       \n",
      " 11  Model                     254 non-null    category      \n",
      " 12  AutoPilot_claimed         254 non-null    boolean       \n",
      " 13  Verified_Autopilot_Death  254 non-null    boolean       \n",
      "dtypes: boolean(7), category(3), datetime64[ns](1), int16(1), int8(1), object(1)\n",
      "memory usage: 11.3+ KB\n"
     ]
    }
   ],
   "source": [
    "df.info()"
   ]
  },
  {
   "cell_type": "code",
   "execution_count": 19,
   "id": "b28c06a3-cd79-426c-94ee-158cbc026bfc",
   "metadata": {},
   "outputs": [
    {
     "data": {
      "text/plain": [
       "Year                         0\n",
       "Date                         0\n",
       "Country                      0\n",
       "State                       69\n",
       "Description                  0\n",
       "Deaths                       0\n",
       "Tesla_driver                 0\n",
       "Tesla_occupant               0\n",
       "Other_vehicle                0\n",
       "Cyclists_Peds                0\n",
       "TSLApluscycl_peds            0\n",
       "Model                        0\n",
       "AutoPilot_claimed            0\n",
       "Verified_Autopilot_Death     0\n",
       "dtype: int64"
      ]
     },
     "execution_count": 19,
     "metadata": {},
     "output_type": "execute_result"
    }
   ],
   "source": [
    "df.isna().sum()"
   ]
  },
  {
   "cell_type": "code",
   "execution_count": 20,
   "id": "bf9afe64-08c2-449b-aa25-2d5046685846",
   "metadata": {},
   "outputs": [
    {
     "data": {
      "text/html": [
       "<div>\n",
       "<style scoped>\n",
       "    .dataframe tbody tr th:only-of-type {\n",
       "        vertical-align: middle;\n",
       "    }\n",
       "\n",
       "    .dataframe tbody tr th {\n",
       "        vertical-align: top;\n",
       "    }\n",
       "\n",
       "    .dataframe thead th {\n",
       "        text-align: right;\n",
       "    }\n",
       "</style>\n",
       "<table border=\"1\" class=\"dataframe\">\n",
       "  <thead>\n",
       "    <tr style=\"text-align: right;\">\n",
       "      <th></th>\n",
       "      <th>Year</th>\n",
       "      <th>Date</th>\n",
       "      <th>Country</th>\n",
       "      <th>State</th>\n",
       "      <th>Description</th>\n",
       "      <th>Deaths</th>\n",
       "      <th>Tesla_driver</th>\n",
       "      <th>Tesla_occupant</th>\n",
       "      <th>Other_vehicle</th>\n",
       "      <th>Cyclists_Peds</th>\n",
       "      <th>TSLApluscycl_peds</th>\n",
       "      <th>Model</th>\n",
       "      <th>AutoPilot_claimed</th>\n",
       "      <th>Verified_Autopilot_Death</th>\n",
       "    </tr>\n",
       "  </thead>\n",
       "  <tbody>\n",
       "    <tr>\n",
       "      <th>0</th>\n",
       "      <td>2022</td>\n",
       "      <td>2022-08-16</td>\n",
       "      <td>Germany</td>\n",
       "      <td>NaN</td>\n",
       "      <td>Tesla car crashes into tree, burns</td>\n",
       "      <td>2</td>\n",
       "      <td>False</td>\n",
       "      <td>False</td>\n",
       "      <td>False</td>\n",
       "      <td>False</td>\n",
       "      <td>False</td>\n",
       "      <td>Sin especificar</td>\n",
       "      <td>False</td>\n",
       "      <td>False</td>\n",
       "    </tr>\n",
       "    <tr>\n",
       "      <th>2</th>\n",
       "      <td>2022</td>\n",
       "      <td>2022-08-14</td>\n",
       "      <td>Finland</td>\n",
       "      <td>NaN</td>\n",
       "      <td>Unlicensed driver hits pedestrian</td>\n",
       "      <td>1</td>\n",
       "      <td>False</td>\n",
       "      <td>False</td>\n",
       "      <td>False</td>\n",
       "      <td>True</td>\n",
       "      <td>True</td>\n",
       "      <td>Sin especificar</td>\n",
       "      <td>False</td>\n",
       "      <td>False</td>\n",
       "    </tr>\n",
       "    <tr>\n",
       "      <th>7</th>\n",
       "      <td>2022</td>\n",
       "      <td>2022-07-12</td>\n",
       "      <td>China</td>\n",
       "      <td>NaN</td>\n",
       "      <td>Out of control Tesla hits pedestrians</td>\n",
       "      <td>2</td>\n",
       "      <td>False</td>\n",
       "      <td>False</td>\n",
       "      <td>False</td>\n",
       "      <td>False</td>\n",
       "      <td>False</td>\n",
       "      <td>Y</td>\n",
       "      <td>False</td>\n",
       "      <td>False</td>\n",
       "    </tr>\n",
       "    <tr>\n",
       "      <th>16</th>\n",
       "      <td>2022</td>\n",
       "      <td>2022-06-20</td>\n",
       "      <td>Canada</td>\n",
       "      <td>NaN</td>\n",
       "      <td>Tesla runs into overpass</td>\n",
       "      <td>1</td>\n",
       "      <td>True</td>\n",
       "      <td>False</td>\n",
       "      <td>False</td>\n",
       "      <td>False</td>\n",
       "      <td>True</td>\n",
       "      <td>Sin especificar</td>\n",
       "      <td>False</td>\n",
       "      <td>False</td>\n",
       "    </tr>\n",
       "    <tr>\n",
       "      <th>27</th>\n",
       "      <td>2022</td>\n",
       "      <td>2022-05-21</td>\n",
       "      <td>China</td>\n",
       "      <td>NaN</td>\n",
       "      <td>Tesla hits pedestrian</td>\n",
       "      <td>1</td>\n",
       "      <td>False</td>\n",
       "      <td>False</td>\n",
       "      <td>False</td>\n",
       "      <td>True</td>\n",
       "      <td>True</td>\n",
       "      <td>Sin especificar</td>\n",
       "      <td>False</td>\n",
       "      <td>False</td>\n",
       "    </tr>\n",
       "    <tr>\n",
       "      <th>...</th>\n",
       "      <td>...</td>\n",
       "      <td>...</td>\n",
       "      <td>...</td>\n",
       "      <td>...</td>\n",
       "      <td>...</td>\n",
       "      <td>...</td>\n",
       "      <td>...</td>\n",
       "      <td>...</td>\n",
       "      <td>...</td>\n",
       "      <td>...</td>\n",
       "      <td>...</td>\n",
       "      <td>...</td>\n",
       "      <td>...</td>\n",
       "      <td>...</td>\n",
       "    </tr>\n",
       "    <tr>\n",
       "      <th>225</th>\n",
       "      <td>2017</td>\n",
       "      <td>2017-04-26</td>\n",
       "      <td>Norway</td>\n",
       "      <td>NaN</td>\n",
       "      <td>Tesla into oncoming traffic</td>\n",
       "      <td>1</td>\n",
       "      <td>False</td>\n",
       "      <td>False</td>\n",
       "      <td>True</td>\n",
       "      <td>False</td>\n",
       "      <td>False</td>\n",
       "      <td>Sin especificar</td>\n",
       "      <td>False</td>\n",
       "      <td>False</td>\n",
       "    </tr>\n",
       "    <tr>\n",
       "      <th>227</th>\n",
       "      <td>2017</td>\n",
       "      <td>2017-01-17</td>\n",
       "      <td>Germany</td>\n",
       "      <td>NaN</td>\n",
       "      <td>Driver died in pileup</td>\n",
       "      <td>1</td>\n",
       "      <td>True</td>\n",
       "      <td>False</td>\n",
       "      <td>False</td>\n",
       "      <td>False</td>\n",
       "      <td>True</td>\n",
       "      <td>Sin especificar</td>\n",
       "      <td>False</td>\n",
       "      <td>False</td>\n",
       "    </tr>\n",
       "    <tr>\n",
       "      <th>233</th>\n",
       "      <td>2016</td>\n",
       "      <td>2016-09-07</td>\n",
       "      <td>Holland</td>\n",
       "      <td>NaN</td>\n",
       "      <td>Drove into wooded ravine</td>\n",
       "      <td>1</td>\n",
       "      <td>True</td>\n",
       "      <td>False</td>\n",
       "      <td>False</td>\n",
       "      <td>False</td>\n",
       "      <td>True</td>\n",
       "      <td>Sin especificar</td>\n",
       "      <td>False</td>\n",
       "      <td>False</td>\n",
       "    </tr>\n",
       "    <tr>\n",
       "      <th>242</th>\n",
       "      <td>2016</td>\n",
       "      <td>2016-01-20</td>\n",
       "      <td>China</td>\n",
       "      <td>NaN</td>\n",
       "      <td>AutoPilot into street sweeper</td>\n",
       "      <td>1</td>\n",
       "      <td>True</td>\n",
       "      <td>False</td>\n",
       "      <td>False</td>\n",
       "      <td>False</td>\n",
       "      <td>True</td>\n",
       "      <td>S</td>\n",
       "      <td>True</td>\n",
       "      <td>True</td>\n",
       "    </tr>\n",
       "    <tr>\n",
       "      <th>244</th>\n",
       "      <td>2015</td>\n",
       "      <td>2015-12-22</td>\n",
       "      <td>Canada</td>\n",
       "      <td>NaN</td>\n",
       "      <td>Struck by dumptruck</td>\n",
       "      <td>1</td>\n",
       "      <td>True</td>\n",
       "      <td>False</td>\n",
       "      <td>False</td>\n",
       "      <td>False</td>\n",
       "      <td>True</td>\n",
       "      <td>Sin especificar</td>\n",
       "      <td>False</td>\n",
       "      <td>False</td>\n",
       "    </tr>\n",
       "  </tbody>\n",
       "</table>\n",
       "<p>69 rows × 14 columns</p>\n",
       "</div>"
      ],
      "text/plain": [
       "     Year       Date    Country State  \\\n",
       "0    2022 2022-08-16   Germany    NaN   \n",
       "2    2022 2022-08-14   Finland    NaN   \n",
       "7    2022 2022-07-12     China    NaN   \n",
       "16   2022 2022-06-20    Canada    NaN   \n",
       "27   2022 2022-05-21     China    NaN   \n",
       "..    ...        ...        ...   ...   \n",
       "225  2017 2017-04-26    Norway    NaN   \n",
       "227  2017 2017-01-17   Germany    NaN   \n",
       "233  2016 2016-09-07   Holland    NaN   \n",
       "242  2016 2016-01-20     China    NaN   \n",
       "244  2015 2015-12-22    Canada    NaN   \n",
       "\n",
       "                                 Description  Deaths  Tesla_driver  \\\n",
       "0        Tesla car crashes into tree, burns        2         False   \n",
       "2         Unlicensed driver hits pedestrian        1         False   \n",
       "7     Out of control Tesla hits pedestrians        2         False   \n",
       "16                 Tesla runs into overpass        1          True   \n",
       "27                    Tesla hits pedestrian        1         False   \n",
       "..                                       ...     ...           ...   \n",
       "225             Tesla into oncoming traffic        1         False   \n",
       "227                   Driver died in pileup        1          True   \n",
       "233                Drove into wooded ravine        1          True   \n",
       "242           AutoPilot into street sweeper        1          True   \n",
       "244                     Struck by dumptruck        1          True   \n",
       "\n",
       "     Tesla_occupant  Other_vehicle  Cyclists_Peds  TSLApluscycl_peds  \\\n",
       "0             False          False          False              False   \n",
       "2             False          False           True               True   \n",
       "7             False          False          False              False   \n",
       "16            False          False          False               True   \n",
       "27            False          False           True               True   \n",
       "..              ...            ...            ...                ...   \n",
       "225           False           True          False              False   \n",
       "227           False          False          False               True   \n",
       "233           False          False          False               True   \n",
       "242           False          False          False               True   \n",
       "244           False          False          False               True   \n",
       "\n",
       "               Model  AutoPilot_claimed  Verified_Autopilot_Death  \n",
       "0    Sin especificar              False                     False  \n",
       "2    Sin especificar              False                     False  \n",
       "7                  Y              False                     False  \n",
       "16   Sin especificar              False                     False  \n",
       "27   Sin especificar              False                     False  \n",
       "..               ...                ...                       ...  \n",
       "225  Sin especificar              False                     False  \n",
       "227  Sin especificar              False                     False  \n",
       "233  Sin especificar              False                     False  \n",
       "242                S               True                      True  \n",
       "244  Sin especificar              False                     False  \n",
       "\n",
       "[69 rows x 14 columns]"
      ]
     },
     "execution_count": 20,
     "metadata": {},
     "output_type": "execute_result"
    }
   ],
   "source": [
    "df.loc[df.State.isna() == True] #Poner que si no es de USA no aplica la columna State y ponerle no aplica"
   ]
  },
  {
   "cell_type": "code",
   "execution_count": 21,
   "id": "83dc173f-674f-4dce-87bc-fceea39415cf",
   "metadata": {},
   "outputs": [],
   "source": [
    "#Eliminamos los espacios de la columna Country y de State\n",
    "df.Country = df.Country.map(lambda x: x.strip(\" \"))\n",
    "df.State = df.State.map(lambda x: x.strip(\" \"))"
   ]
  },
  {
   "cell_type": "code",
   "execution_count": 22,
   "id": "c80ad6e8-7efc-44f8-8ac1-88d311a7dbe7",
   "metadata": {},
   "outputs": [],
   "source": [
    "#Llenamos los NaN de la columna State con \"No aplica\" por estar fuera de USA\n",
    "df.State = df.State.fillna('No aplica')"
   ]
  },
  {
   "cell_type": "code",
   "execution_count": 23,
   "id": "8fbd3ddc-b0ed-4832-9af4-68cc6f713408",
   "metadata": {},
   "outputs": [
    {
     "data": {
      "text/plain": [
       "Year                        0\n",
       "Date                        0\n",
       "Country                     0\n",
       "State                       0\n",
       "Description                 0\n",
       "Deaths                      0\n",
       "Tesla_driver                0\n",
       "Tesla_occupant              0\n",
       "Other_vehicle               0\n",
       "Cyclists_Peds               0\n",
       "TSLApluscycl_peds           0\n",
       "Model                       0\n",
       "AutoPilot_claimed           0\n",
       "Verified_Autopilot_Death    0\n",
       "dtype: int64"
      ]
     },
     "execution_count": 23,
     "metadata": {},
     "output_type": "execute_result"
    }
   ],
   "source": [
    "df.isnull().sum()"
   ]
  },
  {
   "cell_type": "code",
   "execution_count": 34,
   "id": "e74db00a-fd97-4610-8609-744f4affe480",
   "metadata": {},
   "outputs": [
    {
     "data": {
      "text/html": [
       "<div>\n",
       "<style scoped>\n",
       "    .dataframe tbody tr th:only-of-type {\n",
       "        vertical-align: middle;\n",
       "    }\n",
       "\n",
       "    .dataframe tbody tr th {\n",
       "        vertical-align: top;\n",
       "    }\n",
       "\n",
       "    .dataframe thead th {\n",
       "        text-align: right;\n",
       "    }\n",
       "</style>\n",
       "<table border=\"1\" class=\"dataframe\">\n",
       "  <thead>\n",
       "    <tr style=\"text-align: right;\">\n",
       "      <th></th>\n",
       "      <th>Tesla_driver</th>\n",
       "      <th>Tesla_occupant</th>\n",
       "      <th>Other_vehicle</th>\n",
       "      <th>Cyclists_Peds</th>\n",
       "      <th>TSLApluscycl_peds</th>\n",
       "      <th>AutoPilot_claimed</th>\n",
       "      <th>Verified_Autopilot_Death</th>\n",
       "    </tr>\n",
       "  </thead>\n",
       "  <tbody>\n",
       "    <tr>\n",
       "      <th>False</th>\n",
       "      <td>155</td>\n",
       "      <td>222</td>\n",
       "      <td>169</td>\n",
       "      <td>219</td>\n",
       "      <td>117</td>\n",
       "      <td>230</td>\n",
       "      <td>241</td>\n",
       "    </tr>\n",
       "    <tr>\n",
       "      <th>True</th>\n",
       "      <td>99</td>\n",
       "      <td>32</td>\n",
       "      <td>85</td>\n",
       "      <td>35</td>\n",
       "      <td>137</td>\n",
       "      <td>24</td>\n",
       "      <td>13</td>\n",
       "    </tr>\n",
       "  </tbody>\n",
       "</table>\n",
       "</div>"
      ],
      "text/plain": [
       "       Tesla_driver  Tesla_occupant  Other_vehicle  Cyclists_Peds  \\\n",
       "False           155             222            169            219   \n",
       "True             99              32             85             35   \n",
       "\n",
       "       TSLApluscycl_peds  AutoPilot_claimed  Verified_Autopilot_Death  \n",
       "False                117                230                       241  \n",
       "True                 137                 24                        13  "
      ]
     },
     "execution_count": 34,
     "metadata": {},
     "output_type": "execute_result"
    }
   ],
   "source": [
    "#Quantity of True, False values in binary columns\n",
    "df[['Tesla_driver', 'Tesla_occupant', 'Other_vehicle', 'Cyclists_Peds',\n",
    "       'TSLApluscycl_peds', 'AutoPilot_claimed',\n",
    "       'Verified_Autopilot_Death']].apply(pd.Series.value_counts)"
   ]
  },
  {
   "cell_type": "markdown",
   "id": "dcc4bb54-dba9-481a-82df-36d4be444d27",
   "metadata": {
    "tags": []
   },
   "source": [
    "# Exportamos a formato parquet"
   ]
  },
  {
   "cell_type": "code",
   "execution_count": 672,
   "id": "d096962b-1d96-457b-960b-a56a4f3d7041",
   "metadata": {},
   "outputs": [],
   "source": [
    "df.to_parquet('datos_para_analisis.parquet')"
   ]
  },
  {
   "cell_type": "markdown",
   "id": "0256d944-95d4-4db0-b2c3-99afa5f32b82",
   "metadata": {
    "jp-MarkdownHeadingCollapsed": true,
    "tags": []
   },
   "source": [
    "# Conclusion\n",
    "\n",
    "* As we can see, with this process we lower the memory usage of the dataframe.\n",
    "* We clean de column names and we give it a more easy to work format\n",
    "* We clean the NA data and we have a dataset with no NA values\n",
    "* All the columns that are not necesary for the analysis were omitted.\n",
    "* We learn that if we have NA values in a boolean column, we need to proceed with caution because sometimes pandas does not understand well the format of an NA. The way we fix this is by locating the NA values and give to them the format pd.NA, and then we replaced it with the correct boolean value. \n",
    "* Finally we exported the dataframe into a parquet file, because its faster and we maintain the dtypes of all the columns to work later in the analysis."
   ]
  }
 ],
 "metadata": {
  "kernelspec": {
   "display_name": "Python 3 (ipykernel)",
   "language": "python",
   "name": "python3"
  },
  "language_info": {
   "codemirror_mode": {
    "name": "ipython",
    "version": 3
   },
   "file_extension": ".py",
   "mimetype": "text/x-python",
   "name": "python",
   "nbconvert_exporter": "python",
   "pygments_lexer": "ipython3",
   "version": "3.9.13"
  }
 },
 "nbformat": 4,
 "nbformat_minor": 5
}
